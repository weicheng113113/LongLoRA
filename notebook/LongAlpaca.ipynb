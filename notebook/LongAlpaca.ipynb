{
 "cells": [
  {
   "cell_type": "code",
   "execution_count": 1,
   "id": "997a96ed-22f6-4aaa-8748-3419899be779",
   "metadata": {},
   "outputs": [],
   "source": [
    "from supervised_dataset_v1 import SupervisedDatasetV1\n",
    "from supervised_dataset import SupervisedDataset2\n",
    "import transformers\n",
    "import huggingface_hub"
   ]
  },
  {
   "cell_type": "code",
   "execution_count": 2,
   "id": "187e2f81",
   "metadata": {},
   "outputs": [
    {
     "name": "stdout",
     "output_type": "stream",
     "text": [
      "Token will not been saved to git credential helper. Pass `add_to_git_credential=True` if you want to set the git credential as well.\n",
      "Token is valid (permission: read).\n",
      "Your token has been saved to /home/cwei/.cache/huggingface/token\n",
      "Login successful\n"
     ]
    }
   ],
   "source": [
    "huggingface_hub.login(\"xx\")"
   ]
  },
  {
   "cell_type": "code",
   "execution_count": 3,
   "id": "ff2c90de",
   "metadata": {},
   "outputs": [],
   "source": [
    "model_name_or_path = \"meta-llama/Llama-2-7b-chat-hf\"\n",
    "cache_dir = \"./data/.cache/\"\n",
    "model_max_length = 8192\n",
    "data_path = \"./LongAlpaca-12k.json\"\n",
    "\n",
    "DEFAULT_PAD_TOKEN = \"[PAD]\"\n",
    "DEFAULT_EOS_TOKEN = \"</s>\"\n",
    "DEFAULT_BOS_TOKEN = \"<s>\"\n",
    "DEFAULT_UNK_TOKEN = \"<unk>\""
   ]
  },
  {
   "cell_type": "code",
   "execution_count": 4,
   "id": "06bc5528",
   "metadata": {},
   "outputs": [
    {
     "name": "stderr",
     "output_type": "stream",
     "text": [
      "Using pad_token, but it is not set yet.\n"
     ]
    }
   ],
   "source": [
    "tokenizer = transformers.AutoTokenizer.from_pretrained(\n",
    "        model_name_or_path,\n",
    "        cache_dir=cache_dir,\n",
    "        model_max_length=model_max_length,\n",
    "        padding_side=\"right\",\n",
    "        use_fast=True,\n",
    "    )\n",
    "\n",
    "special_tokens_dict = dict()\n",
    "if tokenizer.pad_token is None:\n",
    "    special_tokens_dict[\"pad_token\"] = DEFAULT_PAD_TOKEN\n",
    "if tokenizer.eos_token is None:\n",
    "    special_tokens_dict[\"eos_token\"] = DEFAULT_EOS_TOKEN\n",
    "if tokenizer.bos_token is None:\n",
    "    special_tokens_dict[\"bos_token\"] = DEFAULT_BOS_TOKEN\n",
    "if tokenizer.unk_token is None:\n",
    "    special_tokens_dict[\"unk_token\"] = DEFAULT_UNK_TOKEN\n",
    "    \n",
    "num_new_tokens = tokenizer.add_special_tokens(special_tokens_dict)"
   ]
  },
  {
   "cell_type": "code",
   "execution_count": 5,
   "id": "733d98de",
   "metadata": {},
   "outputs": [
    {
     "name": "stderr",
     "output_type": "stream",
     "text": [
      "WARNING:root:Loading data...\n",
      "WARNING:root:Formatting inputs...\n",
      "WARNING:root:Tokenizing inputs... This may take some time...\n"
     ]
    }
   ],
   "source": [
    "train_dataset = SupervisedDatasetV1(tokenizer=tokenizer, data_path=data_path, num_examples=10)"
   ]
  },
  {
   "cell_type": "code",
   "execution_count": 6,
   "id": "00044fa7",
   "metadata": {},
   "outputs": [
    {
     "data": {
      "text/plain": [
       "{'input_ids': tensor([    1, 13866,   338,  ...,  9262,  1122,   367]),\n",
       " 'labels': tensor([-100, -100, -100,  ..., 9262, 1122,  367])}"
      ]
     },
     "execution_count": 6,
     "metadata": {},
     "output_type": "execute_result"
    }
   ],
   "source": [
    "train_dataset[0]"
   ]
  },
  {
   "cell_type": "code",
   "execution_count": 7,
   "id": "80009351",
   "metadata": {},
   "outputs": [
    {
     "name": "stdout",
     "output_type": "stream",
     "text": [
      "tensor([    1, 13866,   338,  ...,  9262,  1122,   367])\n"
     ]
    }
   ],
   "source": [
    "print(train_dataset[0][\"input_ids\"])"
   ]
  },
  {
   "cell_type": "code",
   "execution_count": 8,
   "id": "73f04f81",
   "metadata": {},
   "outputs": [
    {
     "name": "stdout",
     "output_type": "stream",
     "text": [
      "tensor([-100, -100, -100,  ..., 9262, 1122,  367])\n"
     ]
    }
   ],
   "source": [
    "print(train_dataset[0][\"labels\"])"
   ]
  },
  {
   "cell_type": "code",
   "execution_count": null,
   "id": "9cb359fa",
   "metadata": {},
   "outputs": [],
   "source": []
  },
  {
   "cell_type": "markdown",
   "id": "cac11bc3",
   "metadata": {},
   "source": [
    "# Dataset v2"
   ]
  },
  {
   "cell_type": "code",
   "execution_count": 9,
   "id": "0108b2d5",
   "metadata": {},
   "outputs": [],
   "source": [
    "data_v2 = SupervisedDataset2(data_dir=\"./data/\", tokenizer=tokenizer)"
   ]
  },
  {
   "cell_type": "code",
   "execution_count": 10,
   "id": "227b5f54",
   "metadata": {},
   "outputs": [],
   "source": [
    "myit = iter(data_v2)"
   ]
  },
  {
   "cell_type": "code",
   "execution_count": 11,
   "id": "b780c60a",
   "metadata": {},
   "outputs": [
    {
     "name": "stdout",
     "output_type": "stream",
     "text": [
      "{'input_ids': tensor([    1, 13866,   338,  ...,  9262,  1122,   367]), 'labels': tensor([-100, -100, -100,  ..., -100, -100, -100]), 'instruction': 'Below is a paper. Memorize the paper and answer my question after the paper.\\n The paper begins. \\n Abstract\\nTo build Video Question Answering VideoQA) systems in daily activities,  seeking capable of assisting humans answers from long-form videos with diverse and complex Existing multi-modal VQA models achieve events is a must. promising performance video images or  short clips; on of large-scale   multi- especially with the recent success However; when extending these meth- modal pre-training: challenges arise: long-form videos; ods On the to new sampling strategy is com- one hand, a dense video using putationally prohibitive. On the other hand, methods rely ing on sparse sampling struggle in scenarios where multi- event and multi-granularity visual reasoning are required. new model named Multi- In this work; we introduce modal Iterative Spatial-temporal Transformer (MIST) to adapt pre-trained models for long-form VideoQA: better MIST decomposes traditional dense spatial Specifically; temporal self-attention into cascaded segment and region selection modules that adaptively select frames and image regions that are closely relevant to the question itself Vi- sual concepts at different granularities are then processed efficiently through an attention module. In addition,  MIST iteratively conducts selection and attention over multiple to support reasoning over multiple events. The exper- layers imental results on four VideoQA datasets, including AGQA, MIST achieves NExT-QA, STAR, and Env-QA, show that state-of-the-art performance and is superior at efficiency The code is available at qithub. com; showlab_ mist.\\nMain challenges of long-form VideoQA. The ques- Figure tions for long-form VideoQA usually involve multi-event; multi- grained, and causality reasoning:\\nfunctions, the systems   should be able to understand and seek the answer from long-form videos with diverse events about users activities.\\nCompared to understanding and reasoning over   short videos, many unique challenges arise when the duration of Fig: the video increases, as shown in 1: 1) Multi-event rea- soning: The long-form videos usually record much more The questions about these videos thus naturally re- events_ the systems to perform complex temporal reasoning Iquire e.g,, multi-event reasoning (Ql in Fig: 1), causality (Q3), 2) Interactions among different granularities of visual etc. concepts. The questions of short-clip videos usually involve the interactions of objects or actions that happened simulta - neously, while questions for long-form videos could involve more complex interactions of objects, relations, and events Fig: across different events; e.g,, Q2 in 1_\\n1. Introduction\\nOne of the ultimate goals of Video Question Answering (VideoQA) systems is to assist people in solving problems in everyday life [13,27,41], e.g , helping users find some- reminding them thing; they and assisting them what did, accomplishing complex tasks, etc_ To achieve such while\\nvision-language methods [2,7, 10, 24,29, 31 Current over images or short clips span- 32,51,52] excel at QA they ning several seconds. In other words, excel at learn- ing multi-modal  correspondences single cap between tion with one or few Their tremendous progress events is   fueled by 1) pre-training large- these years over on short-clip-language scale image-language [22,37,38] and\\nCurrently at Google Brain_\\nshown in Fig: 2 MIST comes from simple finding that for long-form VideoQA, it is not necessary t0 consider the like details of all events in a video, what dense self-attention over all patches do_ The model only needs to consider the general content of all events and focuses on the de question-related Thus, MIST de- tails of a few events_ composes dense joint spatial-temporal self-attention into question-conditioned cascade segment and region selection along spatial-temporal  self-attention module with over multi-modal multi-grained features. The cascade selection reduces the computation cost and benefits the performance by focusing 0 the question-related segments and regions. over segments and image patches, bet- The self-attention ter captures interactions among different granularities of vi- In addition, through iteratively conducting sual concepts_ selection and self-attention, MIST can reason over multiple events and better perform temporal and causal reasoning:\\nexperiments on  several  VideoQA datasets We conduct with relatively longer videos, AGQA 14], NExT-QA [44] STAR [42], and Env-QA [11], with an average video du- The experimental results 12s to 44s_ ration varies from perfor approach   achieves show that state-of-the-art our mance. Further ablation studies verify the effectiveness of components. Moreover; quantitative and qualitative key the results also show that our method provides higher efficiency and reasonable evidence for answering questions.\\nDiagrammatic illustration of MIST Figure It revises 2 layer standard  spatial-temporal self-attention into two modules a cascade selection module that dynamically eliminates question- irrelevant image regions, and a self-attention layer reasoning over multi-modal multi-grained visual concepts. The proposed mod- ules further iterate multiple times t0 reason over different events \\n2. Related Work\\ndatasets [2,33], and 2) end-to-end multi-modal Transform- align- ers [1-3,10,37,40], which is superior at learning the ments between images with texts.\\nVideo question   answering: Video Question Answer ing is one typical type of vision-language task studied for Some datasets [20, 47] focus on short clips many years. about daily human activities, eg-, sports, household work MovieQA [39], Some others,  such TVQA [25], etc. as long videos cropped and Social-IQ [50], mainly focus on from movies or TV series for evaluating the understanding of the plot and social interactions, where subtitles play an essential role_ [11,14,42,44] aim to evaluate Recently; more complex spatial-temporal reasoning long-form over videos, e.g , causality, sequential order; etc Current works achieve promising results on the first two types of bench- marks, while struggle on the last one, which is our focus_\\nthese multi-modal Transformers  rely However; on the increasing dense self-attention with the computation cost exponentially over time especially when adapting to long- To make the dense self-attention computation- form videos_ ally feasible in processing videos, almost all current state- sample-based of-the-art pre-trained Transformers are sparse methods, e.g;, [2,40] only sample 3 or 4 frames per video regardless of its length. If we simply adapt these pre-trained models to long-form videos with the same sampling strat- egy, there will be a domain gap between the pre-training and downstream  VideoQA tasks. In pre-training, the sparsely sampled frames of a short video depict a coherent action they likely to be random shots for part of events while are long video Recently, some early attempts process the in video hierarchically [5], which splits the video into several segments and performs QA oly o aggregated segment- efficiency issue, but is still level features_ It can ease the hard to capture complex interactions among multi-grained concepts.   Thus, leveraging the advantages of models pre- images Or short videos and addressing the chal- trained from lenges of long-form VideoQA is worth exploring:\\nterms of methodology, early-stage works  proposed In various LSTM or Graph Neural Network-based models to capture cross-modal [28,35, 54] o motion-appearance in- 45] integrates graph teraction [12,23]. One recent work modeling into Transformers to explicitly capture the objects and their relations in videos_ In addition, with the great vision-language Transformers, many success of pre-trained works [2,10,40] directly fine-tune the pre-trained model on simple yet ef- downstream VideoQA tasks_ [5] proposes fective fine-tuning strategy to hierarchically process videos with pre-trained Transformers_\\nIn this paper; a new model named Multi- we propose modal Iterative Spatial-temporal TTransformer (MIST), as\\nCompared to previous works, this paper is an early at-\\ntempt to specifically focus 0n the challenges of long-form VideoQA for Transformers-based methods. Specifically, we revise the self-attention mechanism to better perform multi-event, multi-grained visual concepts reasoning:\\nwhere y is the predicted answer chosen from the candidate answers (i.e,, answer vocabulary Or provides choices), de- noted and 0 is the set of trainable parameters of as A, VideoQA model F.\\nTransferring pre-trained models downstream to Many transfer  pre-trained tasks. works   try vision- to language  Transformers, such CLIP [37], into down- as object tasks, detection image [15], stream e.g , gen video-text eration [36], and retrieval [9, 32, 48, 53] CLIPAClip [32] proposes various aggregation methods for pooling; Transformer; CLIP features, eg;, to better mean represent a video. CLIP2 Video [9] proposes a temporal dif- ference block to better capture motion information. Sim above  methods, we preserve the strengths of ilar to the pre-trained models and improve their weaknesses on down- long- stream tasks, but this on another one, works focus form VideoQA where the main focus is on multi-event and multi-granularity reasoning\\nFig: pipeline of our proposed Multi 3 In we present the Transformer; MIST. Modal Iterative Spatial-temporal MIST answers the question in three steps: 1) utilize pre trained model to extract the input features, 2) iteratively per- form self-attention over a selected set of features to perform multi-event reasoning, 3) predict the answer based on the obtained video, question, and answer features_\\n3.1. Input Representation\\nExisting vision-language Transformers are good at rep resenting images To adapt them to handle or short clips. the long-form video, we first split the video into K uniform length segments,  where each segment contains T frames In addition, each frame is divide into N patches_ Note that_ for the simplicity of notation, the [CLS] token for image patches and frames are counted in N and T.\\nLong-form video modeling: With the success of great short-term video understanding in recent years, some pio neer works [8,43] have started to focus on long-form video They modeling for action recognition Or localization tasks increasing the efficiency f processing long mainly focus on video features. [8] proposes short-term feature extraction and long-term memory mechanisms that can eliminate the during need for processing redundant video frames training: [30] proposes to replace of the video with compact parts audio cues to succinctly summarize dynamic audio events and are cheap to process. [16] introduces structured multi to improve effi scale temporal decoder for self-attention kciency: The above methods utilize the natural characteris tics of videos to reduce the computation. In contrast, this paper considers the characteristics of QA tasks to use the guide to reduce computation. question as\\nThe vision-language Transformer; like CLIP All-in-one with frozen parameters, extracts patch-level features of all cK }, where zk z2 RTxNxD {2l , segments, x is the feature of k-th segment; where D is the dimension of each patch-level feature. The patch-level visual token fea- tures will be used to obtain frame and segment features in following modules the Since the segment features are sep arately extracted, to indicate their temporal positions in the whole video, we add position embedding Pt € {o(i)li [0, K T]} for each token with their frame index:\\nFor the text part, the question is tokenized as a sequence of words, and then fed into the vision-language Transformer word-level features Xw {W1, } , where W1 to WM get corresponds to [CLS] and WM are words in question. W2 .\\nIterative Attention.  Many existing works [4,6, 17, 34] improving computation efficiency. are for Some of them propose similar iterative attention mechanisms t0 ours. [34] image classification  model to itera- a recurrent proposes tively attending on a sequence of regions at high resolution Perceiver 17] revises  self-attention in Transformer to an asymmetric attention to iteratively distill inputs into a tight feature, allowing it to handle large inputs. TimeSformer [ proposes various self-attention schemes for video classifica- tion models to separately apply temporal and spatial atten- Our model differs in utilizing multi-modal correspon- tion dence (i.e , vision and question) to iterative attention_ guide\\n3.2. Iterative Spatial-Temporal Attention Layer\\nThe Iterative   Spatial-Temporal Attention layer (ISTA aims to iteratively select the segments and regions among questions and then perform long video conditioned on Specifically, multi-event   reasoning over   selected ones ISTA contains three steps: segment selection, region selec - tion, and spatial-temporal self-attention; as shown in Fig:\\nSegment Selection: Given a of image patch features set T, we calculate the features of segments and the question segments by perform- then select the patch features of Topk ing cross-modal temporal attention and differentiable top-k selection.\\n3. Method\\nSpecifically, to perform temporal attention, the frame features are first obtained by pooling the features in spa- tial dimension: the t-th frame feature in k-th segment is calculated as fk pool(zk,1,xk,2, where wt,n in- xt, N), dicates n-th patch at t-th frame of k-th segment. Then, the are obtained by pooling frames features segment features\\nThe goal of a VideoQA task is to predict the answer for a given video V and a question q, formulated as follows:\\nFigure 3_ Architecture of   MIST MIST first divides video into several segments and utilizes the pre-trained (PT) video encoder to extract the feature of each one. Then, MIST iteratively performs self-attention over a selected set of features to reason over multiple events_ Finally, it predicts the answer by comparing the combination of video and question features with answer candidate features_ Note that the \"PT Video Encoder\" in the figure can also be image-based encoders_\\nX {wk K_1\\' and question features g, we first perform cross-modal temporal attention among S given q, and then conduct top-k feature selection over X; as formulated:\\nlinear where g4 and gs projection layers for different are differentiable top-k selec- types of features, selector is spatial features of Topk tion function to choose the seg The top-k selection can be implemented by expand ments_ ing the Gumbel-Softmax   trick [18] or based on optimal [46] for ranking and sorting: transport  formulations In simply conduct Gumbel-Softmax sampling this paper; we Topk times with replacement to achieve top-k selection. Note that we sample the segments  with replacement be- question could only involve one cause, in some cases, the hope We the model learns t0 enhance the most segment: related segment in such cases by re-sampling it, instead of forcing it to select an irrelevant segment; as sampling with- replacement will do. See supplementfor more discus- out The output of the module is sion about Top-k selection: xTxNxD {wklk: € B} € RTopk Xt where B is the set of = Topk segments selected indexes_\\nKey Figure 4 components of Iterative Spatial-Temporal Atten- tion Layer:   Since region selection follows the same architecture segment selection, we only show its inputs and outputs_ as\\nalong the temporal dimension: fk, fl ff). sk: pooll ( question feature is similarly obtained by pooling the The I(W1;- The pooling func- word features, q pool( WM ). tions can be chosen from mean pooling, first token pooling; specific type of simple MLP layer; etc. according to the vision-language Transformer: For example, for image- used language Transformers, like CLIP; the first token pooling extracting frame and question features and can be used for obtaining segment features. pooling over frames for mean\\nRegion Selection: For the T-th sampled frame, we want to select its most relevant patches with the question. Given its region feature of one frame Xv {ck, In € [1, N],k € along with question q, perform cross-model atten- 3 we\\nGiven the segment features S patch features k=l\\'\\nExperiments 4.\\ntion over spatial patches of the T-th sampled frame and se- most related patches. Topj lect the This can be formulated as:\\n4.1. Datasets\\nWe model four recently   proposed evaluate our on challenging datasets for the long-form VideoQA, namely AGQA 14], NExT-QA 44], STAR 42] and Env-QA [11].\\nAGQA is an open-ended VideoQA benchmark for com positional spatio-temporal reasoning: We use its v2 version a more balanced distribution, as the dataset cre- which has It provides 2.27M QA pairs over 9.7K ator recommended. videos with an average length of 30 seconds NExT QA a multi-choice VideoQA benchmark for causal and tem- is reasoning: It contains a total of 5.4K videos   with poral an average length of 44s and about 52K questions STAR is another multi-choice VideoQA benchmark for Situated Reasoning: clips STAR contains 22K video with an aver- age length of 12s along with 60K questions Env-QA is an open-ended VideoQA benchmark for dynamic environment understanding: It contains 23K egocentric videos with an average length of 20 seconds collected on virtual environ- ment AIZTHOR [21] along with 8SK questions.\\nembedding layers for linear feature where hg and hx are projection: The output of the given each frame is XT RTop;xD_ Finally, we stack the selected patch features of {Xclr € [1,Topk all selected frames t0 obtain Xst Tl\\nSpatial-Temporal  Self-Attention. Given the selected frames and selected regions, along with the question, we self-attention layer to reason out fused aim to employ feature vector to jointly represent the question and video_\\nRegarding the inputs of self-attention, since the main computation cost comes from too many patches (K xTx N about thousands of patches), we only keep the selected ones_ While for temporal information, we keep all segments as the total number is only K (usually less than 10), which doesn bring heavy cost and can benefit more comprehensive multi- event reasoning\\nFor each benchmark we follow standard protocols out- works [1,5, 11, 14] for dataset processing; lined by prior metrics, and settings. Please see supplementfor details.\\nSpecifically, we first add type embedding to indicate the types feature, e.g- image region, segment Or word. The type embedding is formulated Ph € {Dh(h)lh € [1,3]} to each trainable embedding indicating where Oh is feature for layer: Then, a standard multi-head attention is performed to obtain the contextual features of all input tokens, formulated as:\\n4.2. Implementation Details\\nOur proposed method can be built upon most of the pre- trained multi-modal Transformers. In OUr experiments, we typical types of pre-trained models, CLIP Vit try two B/32) [37] for image-language pre-training models and All- 40] for video-language pre-training in-One-Base model denoted as MIST -CLIP and MIST -AIO respectively. In MIST Topj Topk 2 and 12 in cascade selec we set tion module and the layer of ISTA L For all videos_ 2_ we sample 32 frames per video, and split them into K AdamW is utilized to optimize model training: segments. Our model is trained on NVIDIA RTX A5O00 GPUs and implemented in PyTorch:\\nDx, and Dw are linear transformation where Qs\"\\nTay- Iterative Execution of ISTA: A stack of L ISTA modelling multi-event interactions between a ers is used for given question and video, where the updated segment fea- tures and word features are fed into next layer: The output of each layer {XO)}L_ prediction. is used for answer\\n4.3. Comparison with State-of-the-arts\\n3.3. Answer Prediction\\nWe compare our model with the state-of-the-art (SOTA_ VideoQA datasets (i.e-, AGQA v2, NExT; methods on four STAR, and Env-QA), as shown in Tab. and 4 re- 3 2, 13 We can see that our proposed method achieves spectively: state-of-the-art performances and outperforms the existing methods on all datasets. The performance relatively is gain limited on Env-QA, because its videos are recorded in virtual environment, AIZTHOR: There is a domain gap for CLIP feature, while previous SOTA uses the features pre- trained on virtual environment data.\\nSpecifically, we mean pool the token features of all ISTA X(L) ). MeanPool(XOl layers, Xo In addition, fol- lowing the work [49], we calculate the similarity between the Xo and the feature of all candidate answers XA € A} obtained by using the pre-trained model Fi- {xa/a nally, the candidate answer with the maximal similarity is considered as the final prediction y_\\nNotably, among SOTAs, TEMP[ATP] [5] uses the same MIST -CLIP feature, CLIP (ViT-B/32), And All-in- as MIST -AIO also use the same feature, 40] and All- one\\nlosst During training; we optimize the softmax cross-entropy between the predicted similarity scores and ground truth\\nTable 1. QA accuracies of state-of-the-art (SOTA methods on AGQA v2 test set\\nQA accuracies of variants of MIST on AGQA v2 and Table 5. NExT-QA\\nTable 2. QA accuracies of SOTA methods on NExT-QA val set\\nlarge passes these models with margin on questions requir- ing causality O multi-event reasoning, e.g,, Sequencing in Temporal in NExT-QA, Interaction AGQA v2, Causal & & Prediction in STAR, and Event in Env-QA These re - sults demonstrate that Our proposed model can effectively address the unique challenges of long-form video QA.\\n4.4. Comparison with Baselines\\nlong we devise several alternative solutions for Here form video modeling to replace our proposed ISTA . Specif- ically, in our CLIP-based MIST framework, we compare ISTA against other solutions, by fine-tuning the same pre- training input representation on AGQA v2 dataset:\\nTable 3. QA accuracies of SOTA methods on STAR val set:\\nMeanPool: It simply takes the average of frame features as the representation of the whole video_ seqTransf Trans.-Frame: We follow the in type CLIPAClip,   utilizing perform Transformer self- to attention over frame features t0 represent the video. Trans.-Patch: This model is similar t0 Trans.-Frame, but it performs self-attention over all patch tokens Divided STA: We follow TimeSformer [4] in the video to   perform classification uni-modal two-step model Space-Time Attention over image patches.\\nTable 4. QA accuracies of SOTA methods on Env-QA test set\\nin-One-Base. Compared to these methods, it can be found that our two versions of models, which build upon differ- ent types of pre-trained models, achieve substantial perfor- on all datasets_ gains mance\\nfrom the question type breakdown of each Moreover; dataset, compared that with AIO and we can see significant per- Temp[ATP], our model obtains a much more formance boost on questions that multi-grained vi- require sual concepts reasoning (i.e. AGQA Rel.-act , Obj.-act. on which  mainly  require information v2) than those within AGQA one frame (i.e;, Obj -rel v2 and Descriptive on on NExT-QA) In addition, we can see that ur model sur-\\nFrom the results in Tab. 5 we can see that ISTA achieves substantial improvement over other variants with larger than In addition, we 3% improvement on the overall accuracy: Transformer-based find that for long-form VideoQA the prediction models are much better than the Mean- answer Pool method while in the video-text retrieval field, some- times mean pooling is even better: The reason could be that long-form video is often complex and di- the content of\\nTable 6. Ablations results of ISTA on AGQA v2 and NExT-QA\\nsimple method for aggregating all frame fea- verse, and pooling, may cause information loss. tures, such as mean And long-form video QA requires more powerful temporal and spatial reasoning ability to focus O some details of a video, while mean pooling only performs well on capturing overall content.\\nMoreover we can see that it is helpful to consider region information in long-form QA (Divided STA and Trans. outperform But, neither dense self- Trans.-Frame) Path attention nor divided STA considers the interaction among multi-grained concepts; thus, the performance improvement is limited. And after integrating different granularities of vi- sual concepts during reasoning, our method benefits the per- All the above findings show that our method is formance. effective, and transferring pre-trained transformers to long form video QA is a challenging topic worth exploring:\\nFigure 5_ Performances of MIST with different settings. (a-e) Performances of MIST with different hyper-parameters on AGQA (f) Performance of variants of MIST under different GFLOPs v2_ on AGQA v2, where GFLOPs rise with the number of sampled frames increase\\n4.5. Ablation Study\\nIn this section, we propose several sets of variants MIST to show the effectiveness of its key components_\\ndoesn hurt performance too much The number of objects in the video frames is relatively small (compared with natu- ral scene images in image QA), and after temporal attention, the patch number has already been greatly reduced: So, the existing model is able to effectively focus O the appropri- mentioning that we can reduce objects. But; It is worth ate the computation cost by using a spatial selection module It may be useful when we face high-resolution or extremely complex videos in the future\\nkey - Effect of each component in ISTA . We ablate mod- ules in ISTA layer; i.e-, Segment  Selection, Region Se- lection, or   Self-attention   layer;  denoted MIST wlo as SSIRSISTA, respectively:\\nSS: It removes the Segment Selection mod- MIST wlo ule, and only performs region selection. Patch features with word features are fed into the self-attention module_ Segment Selection module_ MIST wlo_ RS: It removes All region features within selected segments are fed into self-attention layer: MIST wlo: STA: The segment features and selected region features are mean pooled as the output of ISTA\\nEffects of different ISTA configurations.  In this part, we try different configurations of model architecture, in- cluding Topk; a number of selected segments select patches Topj; ISTA layers L, and the number of segments K. The results are shown in Fig: 5 (a-d).\\nAGQA v2 and NExT-QA The results of these variants on We can see that removing Segment Se- are shown in Tab. 6. larger than 3% accuracy drop. The reason lection causes could be that removing it will introduce a lot of irrelevant re- gion information when predicting the answer and thus hurt the performance. 6 also shows that Segment Selection Tab: is important for multi-event reasoning because removing it hurts the performances on questions requiring temporal rea- soning; i.e., Causal and Temporal.\\nFirst, Fig: 5 (a) shows that the performance is relatively The performance slightly drops Topk. under the small pgood Topk The reason could be that large k if further increases_ will introduce either some incorrect segments O repeated Incorrect segments will bring misleading infor- segments. causing performance drops. Repeated segments lead mation larger number of repeated region features, causing it to difficult for the model to focus 0 question and segment Topj For the number of selected patches information: as shown in Fig: 5 (b), we can see that with the increase of performance first increases and then reaches sta- Topj, the bility: The reason for this phenomenon could be that when selecting too few image regions, it may incorrectly filter answering questions. some regions used for And when the\\ndrop In addition; the performance on both datasets is significant when removing Spatial-temporal self-attention The reason may be similar to MeanPool. We need a power- multi-grained reasoning: ful model to capture\\nthat  removing  spatial Moreover; attention see we can\\nFigure 6. Qualitative results of MIST on NExT-QA dataset We visualize its prediction results along with spatial-temporal attention where the frames with purple and red outlines indicate the highest temporal attention score in the first and second ISTA layers, respectively:\\n4.7. Qualitative Results\\nselected regions increase, though it introduces some irrele- regions, since the patch number after segment selection vant is already relatively small, the self-attention module can ef- fectively attend to relevant regions.\\nWe visualize some success and failure cases from the Fig: NExT-QA dataset in It can be seen that our model 6_ explicitly select video clips and image regions relevant can to the question. We can also find that it is difficult for the model to correctly select segments and regions, when the question mainly involves some concepts related to social Existing pre-trained models may not emotions_ well un derstand the correspondence between abstract concepts and videos. However; we believe that these issues can be allevi- ated by proposing better pre-trained models on short videos and our method is easy to build upon the stronger ones_\\nFor the number of ISTA layers, as shown in Fig: 5 (c) with the increase of L, the performance increases first and then reaches stability or slightly drops. It shows that stack- ing several layers of ISTA can benefit multi-event reason- In addition, the performance doesn t constantly in ing: larger L_ crease with This is probably due to (1) the datasets deeper network and (2) the large enough to train are not questions usually only involving two O three events, so con- bring sidering more benefits_ Fig: more events may not 5 (d) shows that when varying the number of video segments performance tends to suffer when the videos under- are segmentation, because, in this case, each segment spans relatively long duration, and hence the Segment Selection More importantly, all those findings im- module is useless_ ply that MIST is effective in multi-event reasoning by at- tending t0 multiple segments.\\n5. Conclusion and Future Work\\nThis   paper introduces Multi-modal   Iterative   Spatial- temporal Transformer for long-form VideoQA, which de- composes dense self-attention into a cascade segment and region selection module to increase the computation effi- ciency along with a self-attention layer to reason over vari- grained visual concepts. In addition, by iteratively con- ous ducting selection and attention layers; MIST better over performs multi-event reasoning: Experimental results on four VideoQA datasets show its effectiveness and advan- tages in efficiency and interpretability. For future work, al- though MIST has increased the number of sample frames the ability to capture high-frequency motion may still need In addition, patch features naturally have to be improved complex object-level reasoning: some limitations in Re- cently, there have been some pre-trained models for specifi- cally modeling actions and objects It may be interesting to try more types of pre-trained models Or even combine many reasoning: of them to achieve more general\\n4.6. Computation Efficiency\\nIn Fig: 5 (e), we can see that the accuracy increases sig- nificantly when  sampling more frames. It indicates that sampling more frames for long video QA tasks could be Though current datasets  don \\'t provide videos necessary. long or hours duration, such with several minutes videos likely to be encountered in real application scenarios. are Efficiency issues thus could be a more crucial consideration Fig: in such cases_ 5 (f), we compare GFLOPs vS. In aC- long- curacy for ourS other form video QA methods_ against It can be seen that the standard Transformer over patches is computationally expensive. The frame-based method is lightweight in computation, but its performance is limited. little extra  computation Our method requires only but achieves much better performance. It is also worth men- tioning that MIST doesn\\'t enlarge model size for higher ef- ficiency: Compared with other methods, it oly contains some extra shallow networks for spatial-temporal attention_\\nAcknowledgements.  This project is supported by the Na- Research  Foundation,  Singapore tional under its NRFF Award NRF-NRFFI3-2021-0008. The computational work for this article was partially performed 0n resources of the National Supercomputing Centre, Singapore.\\nReferences \\n Now the paper ends. \\nQuestion: What are some potential directions to further improve the proposed model to address its current limitations?', 'output': 'Answer: The paper mentions several directions for improvement:\\n\\n1. Sampling more video frames to capture high-frequency motion information better. The current model may still miss some fine-grained details due to sparse sampling.\\n\\n2. Using more powerful pre-trained models that specifically model objects and actions. The current patch-level features have limitations in complex object-level reasoning. \\n\\n3. Combining different pre-trained models to achieve more general reasoning ability. Each model has its own strengths and weaknesses, so an ensemble may perform better.\\n\\n4. Handling longer videos that are more commonly seen in real-world applications. The current model focuses on efficiency but may still struggle with hours-long videos.\\n\\n5. Exploring spatial selection modules to reduce computation for high-resolution videos. The current model only uses region selection, but spatial selection may be useful for very complex videos.\\n\\nIn summary, sampling strategies, using specialized pre-trained models, and further improving efficiency for extremely long videos are potential directions to enhance the proposed model.</s>'}\n"
     ]
    }
   ],
   "source": [
    "print(next(myit))"
   ]
  }
 ],
 "metadata": {
  "kernelspec": {
   "display_name": "Python 3 (ipykernel)",
   "language": "python",
   "name": "python3"
  },
  "language_info": {
   "codemirror_mode": {
    "name": "ipython",
    "version": 3
   },
   "file_extension": ".py",
   "mimetype": "text/x-python",
   "name": "python",
   "nbconvert_exporter": "python",
   "pygments_lexer": "ipython3",
   "version": "3.10.12"
  }
 },
 "nbformat": 4,
 "nbformat_minor": 5
}
